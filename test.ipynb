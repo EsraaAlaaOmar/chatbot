{
 "cells": [
  {
   "cell_type": "code",
   "execution_count": null,
   "metadata": {},
   "outputs": [],
   "source": [
    "import random\n",
    "import json\n",
    "import os\n",
    "import pickle\n",
    " #######\n",
    "from flask import Flask, jsonify, request\n",
    "from flask_cors import CORS, cross_origin\n",
    "\n",
    "\n",
    " ###############\n",
    "#with open(f'Pickle_RL_Model.pkl', 'rb') as f:\n",
    "    #model = pickle.load(f)\n",
    "##################\n",
    "\n",
    "\n",
    "#################\n",
    "\n",
    "####### \n",
    "import torch\n",
    "\n",
    "from model import NeuralNet\n",
    "from nltk_utils import bag_of_words, tokenize\n",
    "device = torch.device('cuda' if torch.cuda.is_available() else 'cpu')\n",
    "\n",
    "with open('intents.json', 'r') as json_data:\n",
    "    intents = json.load(json_data)\n",
    "  #  FILE = \"data.pth\"\n",
    "with open(f'Pickle_RL_Model.pkl', 'rb') as f:\n",
    "    FILE = pickle.load(f)\n",
    "app = Flask(__name__)\n",
    "CORS(app)\n",
    "@app.route(\"/test\", methods=())\n",
    "def classify():\n",
    "\n",
    "    \n",
    "        data = torch.load(FILE)\n",
    "        input_size = data[\"input_size\"]\n",
    "        hidden_size = data[\"hidden_size\"]\n",
    "        output_size = data[\"output_size\"]\n",
    "        all_words = data['all_words']\n",
    "        tags = data['tags']\n",
    "        model_state = data[\"model_state\"]\n",
    "\n",
    "        model = NeuralNet(input_size, hidden_size, output_size).to(device)\n",
    "        model.load_state_dict(model_state)\n",
    "        model.eval()\n",
    "        bot_name = \"Sam\"\n",
    "        print(\"Let's chat! (type 'quit' to exit)\")\n",
    "\n",
    "        while True:\n",
    "\n",
    "            # sentence = \"do you use credit cards?\"\n",
    "            sentence = input(\"You: \")\n",
    "            if sentence == \"quit\":\n",
    "                break\n",
    "\n",
    "            sentence = tokenize(sentence)\n",
    "            X = bag_of_words(sentence, all_words)\n",
    "            X = X.reshape(1, X.shape[0])\n",
    "            X = torch.from_numpy(X).to(device)\n",
    "\n",
    "            output = model(X)\n",
    "            _, predicted = torch.max(output, dim=1)\n",
    "\n",
    "            tag = tags[predicted.item()]\n",
    "\n",
    "            probs = torch.softmax(output, dim=1)\n",
    "            prob = probs[0][predicted.item()]\n",
    "            if prob.item() > 0.75:\n",
    "                for intent in intents['intents']:\n",
    "                    if tag == intent[\"tag\"]:\n",
    "                        print(f\"{bot_name}: {random.choice(intent['responses'])}\")\n",
    "            else:\n",
    "                print(f\"{bot_name}: I do not understand...\")\n",
    "\n",
    "\n",
    "\n",
    "\n",
    "\n",
    "\n",
    "\n",
    "\n",
    "           # res =  {random.choice(intent['responses'])}\n",
    "            ################\n",
    "\n",
    "           # response = jsonify(res)\n",
    "            return \"Hello\"\n",
    "\n",
    "# running REST interface, port=5000 for direct test, port=5001 for deployment from PM2\n",
    "if __name__ == \"__main__\":\n",
    "        host = os.environ.get(\"IP\",\"0.0.0.0\")\n",
    "        port= int(os.environ.get('PORT',5001))\n",
    "        app.run(host=host,port=port)"
   ]
  },
  {
   "cell_type": "code",
   "execution_count": null,
   "metadata": {},
   "outputs": [],
   "source": [
    "jsonify({random.choice(intent['responses'])})"
   ]
  },
  {
   "cell_type": "code",
   "execution_count": null,
   "metadata": {},
   "outputs": [
    {
     "name": "stdout",
     "output_type": "stream",
     "text": [
      " * Serving Flask app '__main__' (lazy loading)\n",
      " * Environment: production\n",
      "   WARNING: This is a development server. Do not use it in a production deployment.\n",
      "   Use a production WSGI server instead.\n",
      " * Debug mode: off\n"
     ]
    },
    {
     "name": "stderr",
     "output_type": "stream",
     "text": [
      " * Running on all addresses.\n",
      "   WARNING: This is a development server. Do not use it in a production deployment.\n",
      " * Running on http://192.168.1.7:8000/ (Press CTRL+C to quit)\n",
      "192.168.1.7 - - [19/May/2021 21:51:54] \"GET / HTTP/1.1\" 200 -\n",
      "192.168.1.7 - - [19/May/2021 21:51:57] \"GET /favicon.ico HTTP/1.1\" 404 -\n"
     ]
    }
   ],
   "source": [
    "from flask import Flask\n",
    "\n",
    "import os\n",
    "app = Flask(__name__)\n",
    "@app.route(\"/\")\n",
    "def hello():\n",
    "     return \"Hello world\" \n",
    "host = os.environ.get(\"IP\",\"0.0.0.0\")\n",
    "port= int(os.environ.get('PORT',8000))\n",
    "app.run(host=host,port=port)"
   ]
  },
  {
   "cell_type": "code",
   "execution_count": null,
   "metadata": {},
   "outputs": [],
   "source": []
  }
 ],
 "metadata": {
  "kernelspec": {
   "display_name": "Python 3",
   "language": "python",
   "name": "python3"
  },
  "language_info": {
   "codemirror_mode": {
    "name": "ipython",
    "version": 3
   },
   "file_extension": ".py",
   "mimetype": "text/x-python",
   "name": "python",
   "nbconvert_exporter": "python",
   "pygments_lexer": "ipython3",
   "version": "3.7.9"
  }
 },
 "nbformat": 4,
 "nbformat_minor": 4
}
